{
  "nbformat": 4,
  "nbformat_minor": 0,
  "metadata": {
    "colab": {
      "name": "ISPVIP_Task_1_Loan_Prediction.ipynb",
      "provenance": []
    },
    "kernelspec": {
      "name": "python3",
      "display_name": "Python 3"
    },
    "language_info": {
      "name": "python"
    }
  },
  "cells": [
    {
      "cell_type": "markdown",
      "source": [
        "# Loan prediction using **Machine** **Learning** \n",
        "InfoPillar Solution Pvt Ltd. Internship task\n",
        ":- 1"
      ],
      "metadata": {
        "id": "cfAGydcymvbT"
      }
    },
    {
      "cell_type": "markdown",
      "source": [
        "# ***Project idea*** – The idea behind this ML project is to build a model that will classify how much loan the user can take. It is based on the user’s marital status, education, number of dependents, and employments. You can build a linear model for this project"
      ],
      "metadata": {
        "id": "Ob04UBdVma8l"
      }
    },
    {
      "cell_type": "markdown",
      "source": [
        "# ***Libraries***"
      ],
      "metadata": {
        "id": "vIHG45HVpCm6"
      }
    },
    {
      "cell_type": "code",
      "execution_count": 33,
      "metadata": {
        "id": "eyFAGPSwMSUD"
      },
      "outputs": [],
      "source": [
        "import pandas as pd\n",
        "import numpy as np\n",
        "import seaborn as sns\n",
        "from sklearn.datasets import load_boston\n",
        "from sklearn.linear_model import LinearRegression\n",
        "from sklearn.model_selection import train_test_split\n",
        "from sklearn import metrics\n",
        "from sklearn.metrics import mean_absolute_error,mean_squared_error,r2_score\n"
      ]
    },
    {
      "cell_type": "markdown",
      "source": [
        "# Dataset *Reading*"
      ],
      "metadata": {
        "id": "cYIH9elLo3ya"
      }
    },
    {
      "cell_type": "code",
      "source": [
        "boston = load_boston()\n",
        "print(boston.data)"
      ],
      "metadata": {
        "colab": {
          "base_uri": "https://localhost:8080/"
        },
        "id": "NdFbaSbKMZhK",
        "outputId": "da5437f2-ab95-452e-d2ce-e5556201c877"
      },
      "execution_count": 34,
      "outputs": [
        {
          "output_type": "stream",
          "name": "stdout",
          "text": [
            "[[6.3200e-03 1.8000e+01 2.3100e+00 ... 1.5300e+01 3.9690e+02 4.9800e+00]\n",
            " [2.7310e-02 0.0000e+00 7.0700e+00 ... 1.7800e+01 3.9690e+02 9.1400e+00]\n",
            " [2.7290e-02 0.0000e+00 7.0700e+00 ... 1.7800e+01 3.9283e+02 4.0300e+00]\n",
            " ...\n",
            " [6.0760e-02 0.0000e+00 1.1930e+01 ... 2.1000e+01 3.9690e+02 5.6400e+00]\n",
            " [1.0959e-01 0.0000e+00 1.1930e+01 ... 2.1000e+01 3.9345e+02 6.4800e+00]\n",
            " [4.7410e-02 0.0000e+00 1.1930e+01 ... 2.1000e+01 3.9690e+02 7.8800e+00]]\n"
          ]
        },
        {
          "output_type": "stream",
          "name": "stderr",
          "text": [
            "/usr/local/lib/python3.7/dist-packages/sklearn/utils/deprecation.py:87: FutureWarning: Function load_boston is deprecated; `load_boston` is deprecated in 1.0 and will be removed in 1.2.\n",
            "\n",
            "    The Boston housing prices dataset has an ethical problem. You can refer to\n",
            "    the documentation of this function for further details.\n",
            "\n",
            "    The scikit-learn maintainers therefore strongly discourage the use of this\n",
            "    dataset unless the purpose of the code is to study and educate about\n",
            "    ethical issues in data science and machine learning.\n",
            "\n",
            "    In this special case, you can fetch the dataset from the original\n",
            "    source::\n",
            "\n",
            "        import pandas as pd\n",
            "        import numpy as np\n",
            "\n",
            "\n",
            "        data_url = \"http://lib.stat.cmu.edu/datasets/boston\"\n",
            "        raw_df = pd.read_csv(data_url, sep=\"\\s+\", skiprows=22, header=None)\n",
            "        data = np.hstack([raw_df.values[::2, :], raw_df.values[1::2, :2]])\n",
            "        target = raw_df.values[1::2, 2]\n",
            "\n",
            "    Alternative datasets include the California housing dataset (i.e.\n",
            "    :func:`~sklearn.datasets.fetch_california_housing`) and the Ames housing\n",
            "    dataset. You can load the datasets as follows::\n",
            "\n",
            "        from sklearn.datasets import fetch_california_housing\n",
            "        housing = fetch_california_housing()\n",
            "\n",
            "    for the California housing dataset and::\n",
            "\n",
            "        from sklearn.datasets import fetch_openml\n",
            "        housing = fetch_openml(name=\"house_prices\", as_frame=True)\n",
            "\n",
            "    for the Ames housing dataset.\n",
            "    \n",
            "  warnings.warn(msg, category=FutureWarning)\n"
          ]
        }
      ]
    },
    {
      "cell_type": "markdown",
      "source": [
        "# **Clean - Preprocessing The Data**"
      ],
      "metadata": {
        "id": "wME7jikVosWC"
      }
    },
    {
      "cell_type": "code",
      "source": [
        "boston.data.shape"
      ],
      "metadata": {
        "colab": {
          "base_uri": "https://localhost:8080/"
        },
        "id": "hhGPzZYqMeke",
        "outputId": "ff2a83ca-64af-421c-81c2-846a54fd028b"
      },
      "execution_count": 35,
      "outputs": [
        {
          "output_type": "execute_result",
          "data": {
            "text/plain": [
              "(506, 13)"
            ]
          },
          "metadata": {},
          "execution_count": 35
        }
      ]
    },
    {
      "cell_type": "code",
      "source": [
        "import os"
      ],
      "metadata": {
        "id": "fxBTzfbxj7kk"
      },
      "execution_count": 36,
      "outputs": []
    },
    {
      "cell_type": "code",
      "source": [
        "os.getcwd()"
      ],
      "metadata": {
        "colab": {
          "base_uri": "https://localhost:8080/",
          "height": 35
        },
        "id": "OLM8dFg1j9op",
        "outputId": "93ed487f-c3c0-4776-a306-ef9ea2f0aff5"
      },
      "execution_count": 37,
      "outputs": [
        {
          "output_type": "execute_result",
          "data": {
            "application/vnd.google.colaboratory.intrinsic+json": {
              "type": "string"
            },
            "text/plain": [
              "'/content'"
            ]
          },
          "metadata": {},
          "execution_count": 37
        }
      ]
    },
    {
      "cell_type": "code",
      "source": [
        "boston.data.shape"
      ],
      "metadata": {
        "colab": {
          "base_uri": "https://localhost:8080/"
        },
        "id": "OVKDmR9YkG7l",
        "outputId": "2d4cdf79-7be4-4705-a909-f91e5658e0a8"
      },
      "execution_count": 38,
      "outputs": [
        {
          "output_type": "execute_result",
          "data": {
            "text/plain": [
              "(506, 13)"
            ]
          },
          "metadata": {},
          "execution_count": 38
        }
      ]
    },
    {
      "cell_type": "code",
      "source": [
        "boston.data.size"
      ],
      "metadata": {
        "colab": {
          "base_uri": "https://localhost:8080/"
        },
        "id": "-6izM03foknQ",
        "outputId": "8645af1f-88e9-4f28-9801-9d098caa3713"
      },
      "execution_count": 39,
      "outputs": [
        {
          "output_type": "execute_result",
          "data": {
            "text/plain": [
              "6578"
            ]
          },
          "metadata": {},
          "execution_count": 39
        }
      ]
    },
    {
      "cell_type": "code",
      "source": [
        "boston_df=pd.DataFrame(boston.data)"
      ],
      "metadata": {
        "id": "Mv7yEFEpkWMd"
      },
      "execution_count": 40,
      "outputs": []
    },
    {
      "cell_type": "code",
      "source": [
        "boston_df.columns=boston.feature_names"
      ],
      "metadata": {
        "id": "fo7K7dI5lZW9"
      },
      "execution_count": 41,
      "outputs": []
    },
    {
      "cell_type": "code",
      "source": [
        "boston_df['PRICE']=boston.target\n",
        "print(boston_df.head())"
      ],
      "metadata": {
        "colab": {
          "base_uri": "https://localhost:8080/"
        },
        "id": "t2zecGENlbpq",
        "outputId": "c206d044-c0c7-4030-99e1-aeb629cdb45c"
      },
      "execution_count": 42,
      "outputs": [
        {
          "output_type": "stream",
          "name": "stdout",
          "text": [
            "      CRIM    ZN  INDUS  CHAS    NOX  ...    TAX  PTRATIO       B  LSTAT  PRICE\n",
            "0  0.00632  18.0   2.31   0.0  0.538  ...  296.0     15.3  396.90   4.98   24.0\n",
            "1  0.02731   0.0   7.07   0.0  0.469  ...  242.0     17.8  396.90   9.14   21.6\n",
            "2  0.02729   0.0   7.07   0.0  0.469  ...  242.0     17.8  392.83   4.03   34.7\n",
            "3  0.03237   0.0   2.18   0.0  0.458  ...  222.0     18.7  394.63   2.94   33.4\n",
            "4  0.06905   0.0   2.18   0.0  0.458  ...  222.0     18.7  396.90   5.33   36.2\n",
            "\n",
            "[5 rows x 14 columns]\n"
          ]
        }
      ]
    },
    {
      "cell_type": "markdown",
      "source": [
        "# **Plot**"
      ],
      "metadata": {
        "id": "RQ04vAVGoW0L"
      }
    },
    {
      "cell_type": "code",
      "source": [
        "sns.displot(boston_df['PRICE'])"
      ],
      "metadata": {
        "colab": {
          "base_uri": "https://localhost:8080/",
          "height": 386
        },
        "id": "zsCytNpJldvM",
        "outputId": "e2e46979-8b01-4017-976a-acf7fcea70c5"
      },
      "execution_count": 43,
      "outputs": [
        {
          "output_type": "execute_result",
          "data": {
            "text/plain": [
              "<seaborn.axisgrid.FacetGrid at 0x7f9865f14610>"
            ]
          },
          "metadata": {},
          "execution_count": 43
        },
        {
          "output_type": "display_data",
          "data": {
            "image/png": "[encoded data removed]",
            "text/plain": [
              "<Figure size 360x360 with 1 Axes>"
            ]
          },
          "metadata": {
            "needs_background": "light"
          }
        }
      ]
    },
    {
      "cell_type": "markdown",
      "source": [
        "# To check is there any column null or not"
      ],
      "metadata": {
        "id": "rvNBXDuTphOI"
      }
    },
    {
      "cell_type": "code",
      "source": [
        "boston_df.isnull().sum()"
      ],
      "metadata": {
        "colab": {
          "base_uri": "https://localhost:8080/"
        },
        "id": "J1lh5B_flft8",
        "outputId": "e733d3eb-0c90-47a0-ffc4-d56ad9829598"
      },
      "execution_count": 44,
      "outputs": [
        {
          "output_type": "execute_result",
          "data": {
            "text/plain": [
              "CRIM       0\n",
              "ZN         0\n",
              "INDUS      0\n",
              "CHAS       0\n",
              "NOX        0\n",
              "RM         0\n",
              "AGE        0\n",
              "DIS        0\n",
              "RAD        0\n",
              "TAX        0\n",
              "PTRATIO    0\n",
              "B          0\n",
              "LSTAT      0\n",
              "PRICE      0\n",
              "dtype: int64"
            ]
          },
          "metadata": {},
          "execution_count": 44
        }
      ]
    },
    {
      "cell_type": "markdown",
      "source": [
        "# Dividing The **Dataset**"
      ],
      "metadata": {
        "id": "udjnDmRmoLHG"
      }
    },
    {
      "cell_type": "code",
      "source": [
        "X = boston_df.iloc[:,:-1].values\n",
        "y = boston_df.iloc[:,-1].values\n",
        "X_train, X_test, y_train, y_test = train_test_split(X, y, test_size = 0.3, random_state = 80)"
      ],
      "metadata": {
        "id": "gIxbh70ZliIQ"
      },
      "execution_count": 45,
      "outputs": []
    },
    {
      "cell_type": "markdown",
      "source": [
        "# **Model Building**"
      ],
      "metadata": {
        "id": "fXaxMfvXoBdv"
      }
    },
    {
      "cell_type": "code",
      "source": [
        "linear_Regression_Model = LinearRegression()\n",
        "linear_Regression_Model.fit(X_train,y_train)\n",
        "#Value of m\n",
        "print('Coefficients: \\n',linear_Regression_Model.coef_)"
      ],
      "metadata": {
        "colab": {
          "base_uri": "https://localhost:8080/"
        },
        "id": "UN-XdAUtlms_",
        "outputId": "c4d26e23-041b-4a78-ba33-4ae620f42857"
      },
      "execution_count": 46,
      "outputs": [
        {
          "output_type": "stream",
          "name": "stdout",
          "text": [
            "Coefficients: \n",
            " [-1.07418254e-01  5.22010486e-02  4.98839331e-02  3.01057658e+00\n",
            " -1.76082726e+01  3.67308035e+00  1.11587846e-02 -1.47581694e+00\n",
            "  2.96069876e-01 -1.12908159e-02 -8.71508287e-01  9.76006235e-03\n",
            " -6.27739570e-01]\n"
          ]
        }
      ]
    },
    {
      "cell_type": "markdown",
      "source": [
        "# Value of **C**"
      ],
      "metadata": {
        "id": "JptDyRs5pXw6"
      }
    },
    {
      "cell_type": "code",
      "source": [
        "print(\"Value of C is :\",linear_Regression_Model.intercept_)"
      ],
      "metadata": {
        "colab": {
          "base_uri": "https://localhost:8080/"
        },
        "id": "WRIulLgelnZ0",
        "outputId": "c5942bad-0f5b-4ca0-f5d2-82ef61706624"
      },
      "execution_count": 47,
      "outputs": [
        {
          "output_type": "stream",
          "name": "stdout",
          "text": [
            "Value of C is : 35.54288746845883\n"
          ]
        }
      ]
    },
    {
      "cell_type": "markdown",
      "source": [
        "# The **Prediction**"
      ],
      "metadata": {
        "id": "6hxWc1A2n4MJ"
      }
    },
    {
      "cell_type": "code",
      "source": [
        "y_pred = linear_Regression_Model.predict(X_test)\n",
        "y_pred"
      ],
      "metadata": {
        "colab": {
          "base_uri": "https://localhost:8080/"
        },
        "id": "_4jaYZMclsgw",
        "outputId": "3c54c439-712b-4bd8-a434-c7c0d845ee55"
      },
      "execution_count": 48,
      "outputs": [
        {
          "output_type": "execute_result",
          "data": {
            "text/plain": [
              "array([19.45770639, 37.19931993, 25.12570498, 22.04299495, 24.0390742 ,\n",
              "       35.05747632, 41.06247637, 24.71906144, 27.56081018, 21.97440284,\n",
              "       13.98492549, 23.77895314, 23.95798135, 21.9046238 , 23.32527841,\n",
              "       28.45009098, 33.57734904, 17.81687675, 23.39112491, 25.59623451,\n",
              "       12.91547066, 20.19655606, 20.78434122, 19.63332874, 17.02608918,\n",
              "       35.14546455, 22.88487269, 15.59625493, 23.52495483, 25.82525054,\n",
              "       17.47918033, 27.63068766, 26.51307142, 20.77431267, 17.86850615,\n",
              "       17.00308732, 34.57098727, 20.78936443, 21.26211944, 11.99603219,\n",
              "       31.02787895, 37.99328397, 28.77055143, 31.03580241, 25.17559352,\n",
              "       27.14684614, 17.93383898, 29.54029832, 26.14956244, 15.82026912,\n",
              "       18.22109912, 20.10636887, 17.40298161, 24.24173726, 18.88102308,\n",
              "       13.58084297, 34.78283907, 19.33259781, 20.76432096, 18.65511866,\n",
              "       24.14761938, 25.57062518, 29.46123453, 27.49368177, 31.49636075,\n",
              "       36.89202583, 19.92549096, 35.4941753 , 12.93393197, 12.93180598,\n",
              "       22.6856984 , 15.78527689, 13.98407219, 22.3174038 , 30.08078095,\n",
              "       24.88705305, 20.91153365, 21.17857153, 18.75500638, 31.08175593,\n",
              "       20.32509969, 14.00450881, 17.3540463 ,  8.14179502, 16.87404026,\n",
              "       20.6477409 , 17.11788239, 16.67644706, 19.64855104, 38.80484125,\n",
              "       31.53801246, 23.60590365, 33.70593976, 13.79670694, 21.37341078,\n",
              "       18.45206563, 13.3468561 , 32.05653116, 35.34734893,  4.92214442,\n",
              "       20.64481791, 25.21053539, 16.54888775, 38.59263431, 34.60434462,\n",
              "       38.24162844, 20.16680437, 19.91370224, 24.54069808, -5.77414586,\n",
              "       20.04410622, 29.25012709, 15.74851134, 21.20739621,  0.42173495,\n",
              "       23.08869561, 27.82232057, 14.52778552, 14.65388619, 19.78905762,\n",
              "       18.34650158, 30.79688013, 20.15075655, 25.33921765, 22.74418406,\n",
              "        8.82572737, 12.82817581, 18.86808993, 13.62308462, 27.53667433,\n",
              "       16.27765764, 14.40396741, 17.96686481,  5.64020604, 24.58902749,\n",
              "       26.85352983, 14.60315466, 16.13387507, 32.39580265, 21.68691283,\n",
              "       24.01044034, 18.1030003 , 20.09391966, 14.56191182, 22.56967039,\n",
              "       24.56421831, 26.23017736, 31.80586753, 30.50149073,  8.52607377,\n",
              "       10.88613134, 16.43579484])"
            ]
          },
          "metadata": {},
          "execution_count": 48
        }
      ]
    },
    {
      "cell_type": "markdown",
      "source": [
        "# **Evaluating** Model"
      ],
      "metadata": {
        "id": "ChMc7u5-nvUs"
      }
    },
    {
      "cell_type": "code",
      "source": [
        "print(\"Mean Absolute Error     :\",mean_absolute_error(y_pred,y_test))\n",
        "print(\"Mean Squared Error      :\",mean_squared_error(y_test,y_pred))\n",
        "print(\"Root Mean Squared Error :\",np.sqrt(mean_squared_error(y_test,y_pred)))\n",
        "print(\"R2 score is             :\",r2_score(y_test,y_pred))"
      ],
      "metadata": {
        "colab": {
          "base_uri": "https://localhost:8080/"
        },
        "id": "C0jl4hRXlv_s",
        "outputId": "140cdb1e-f6cf-4741-f94b-a78d01e677e5"
      },
      "execution_count": 49,
      "outputs": [
        {
          "output_type": "stream",
          "name": "stdout",
          "text": [
            "Mean Absolute Error     : 2.8760813890529904\n",
            "Mean Squared Error      : 16.241848626738413\n",
            "Root Mean Squared Error : 4.03011769390652\n",
            "R2 score is             : 0.7429669842220965\n"
          ]
        }
      ]
    },
    {
      "cell_type": "markdown",
      "source": [
        "# The **Plot** prediction line"
      ],
      "metadata": {
        "id": "1eXpPgxGnm3C"
      }
    },
    {
      "cell_type": "code",
      "source": [
        "sns.regplot(y_test, y_pred)"
      ],
      "metadata": {
        "colab": {
          "base_uri": "https://localhost:8080/",
          "height": 339
        },
        "id": "t5eL6uK-lz-r",
        "outputId": "32ded62f-0522-41a4-ca79-0b3043e77dd0"
      },
      "execution_count": 50,
      "outputs": [
        {
          "output_type": "stream",
          "name": "stderr",
          "text": [
            "/usr/local/lib/python3.7/dist-packages/seaborn/_decorators.py:43: FutureWarning: Pass the following variables as keyword args: x, y. From version 0.12, the only valid positional argument will be `data`, and passing other arguments without an explicit keyword will result in an error or misinterpretation.\n",
            "  FutureWarning\n"
          ]
        },
        {
          "output_type": "execute_result",
          "data": {
            "text/plain": [
              "<matplotlib.axes._subplots.AxesSubplot at 0x7f9865ddd290>"
            ]
          },
          "metadata": {},
          "execution_count": 50
        },
        {
          "output_type": "display_data",
          "data": {
            "image/png": "[encoded data removed]",
            "text/plain": [
              "<Figure size 432x288 with 1 Axes>"
            ]
          },
          "metadata": {
            "needs_background": "light"
          }
        }
      ]
    },
    {
      "cell_type": "markdown",
      "source": [
        "# Now We Get The \"*Accuracy For Model*\" Is ** 74.29044%**"
      ],
      "metadata": {
        "id": "GyLgfUa0nRFS"
      }
    }
  ]
}